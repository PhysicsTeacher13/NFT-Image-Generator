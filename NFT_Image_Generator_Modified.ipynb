{
  "nbformat": 4,
  "nbformat_minor": 0,
  "metadata": {
    "colab": {
      "name": "NFT-Image-Generator-Modified.ipynb",
      "provenance": [],
      "collapsed_sections": []
    },
    "kernelspec": {
      "name": "python3",
      "display_name": "Python 3"
    },
    "language_info": {
      "name": "python"
    }
  },
  "cells": [
    {
      "cell_type": "code",
      "metadata": {
        "colab": {
          "base_uri": "https://localhost:8080/"
        },
        "id": "mx1YSZPQ5vFD",
        "outputId": "95a43dea-ca93-4e07-dbe6-643c66473671"
      },
      "source": [
        "!git clone https://github.com/PhysicsTeacher13/NFT-Image-Generator.git"
      ],
      "execution_count": 1,
      "outputs": [
        {
          "output_type": "stream",
          "name": "stdout",
          "text": [
            "Cloning into 'nft-image-generator'...\n",
            "remote: Enumerating objects: 75, done.\u001b[K\n",
            "remote: Counting objects: 100% (75/75), done.\u001b[K\n",
            "remote: Compressing objects: 100% (50/50), done.\u001b[K\n",
            "remote: Total 75 (delta 32), reused 58 (delta 21), pack-reused 0\u001b[K\n",
            "Unpacking objects: 100% (75/75), done.\n"
          ]
        }
      ]
    },
    {
      "cell_type": "code",
      "metadata": {
        "colab": {
          "base_uri": "https://localhost:8080/"
        },
        "id": "pnmM-7XJ9uWf",
        "outputId": "15ecf6ad-57ad-4f47-a1c5-9c7291ab6164"
      },
      "source": [
        "cd nft-image-generator/"
      ],
      "execution_count": 2,
      "outputs": [
        {
          "output_type": "stream",
          "name": "stdout",
          "text": [
            "/content/nft-image-generator\n"
          ]
        }
      ]
    },
    {
      "cell_type": "code",
      "metadata": {
        "id": "jDeGe6UH4hSo"
      },
      "source": [
        "from PIL import Image \n",
        "from IPython.display import display \n",
        "import random\n",
        "import json"
      ],
      "execution_count": 3,
      "outputs": []
    },
    {
      "cell_type": "code",
      "metadata": {
        "id": "bJM6-kBf42U3"
      },
      "source": [
        "# Each image is made up a series of traits\n",
        "# The weightings for each trait drive the rarity and add up to 100%\n",
        "\n",
        "background = [\"Blue\", \"Orange\", \"Purple\", \"Red\", \"Yellow\"] \n",
        "background_weights = [30, 40, 15, 5, 10]\n",
        "\n",
        "circle = [\"Blue\", \"Green\", \"Orange\", \"Red\", \"Yellow\"] \n",
        "circle_weights = [30, 40, 15, 5, 10]\n",
        "\n",
        "square = [\"Blue\", \"Green\", \"Orange\", \"Red\", \"Yellow\"] \n",
        "square_weights = [30, 40, 15, 5, 10]\n",
        "\n",
        "# Dictionary variable for each trait. \n",
        "# Eech trait corresponds to its file name\n",
        "\n",
        "background_files = {\n",
        "    \"Blue\": \"blue\",\n",
        "    \"Orange\": \"orange\",\n",
        "    \"Purple\": \"purple\",\n",
        "    \"Red\": \"red\",\n",
        "    \"Yellow\": \"yellow\",\n",
        "}\n",
        "\n",
        "circle_files = {\n",
        "    \"Blue\": \"blue-circle\",\n",
        "    \"Green\": \"green-circle\",\n",
        "    \"Orange\": \"orange-circle\",\n",
        "    \"Red\": \"red-circle\",\n",
        "    \"Yellow\": \"yellow-circle\"   \n",
        "}\n",
        "\n",
        "square_files = {\n",
        "    \"Blue\": \"blue-square\",\n",
        "    \"Green\": \"green-square\",\n",
        "    \"Orange\": \"orange-square\",\n",
        "    \"Red\": \"red-square\",\n",
        "    \"Yellow\": \"yellow-square\"  \n",
        "          \n",
        "}"
      ],
      "execution_count": 4,
      "outputs": []
    },
    {
      "cell_type": "code",
      "metadata": {
        "id": "lkv_Y8L142ay"
      },
      "source": [
        "## Generate Traits\n",
        "\n",
        "TOTAL_IMAGES = 30 # Number of random unique images we want to generate\n",
        "\n",
        "all_images = [] \n",
        "\n",
        "# A recursive function to generate unique image combinations\n",
        "def create_new_image():\n",
        "    \n",
        "    new_image = {} #\n",
        "\n",
        "    # For each trait category, select a random trait based on the weightings \n",
        "    new_image [\"Background\"] = random.choices(background, background_weights)[0]\n",
        "    new_image [\"Circle\"] = random.choices(circle, circle_weights)[0]\n",
        "    new_image [\"Square\"] = random.choices(square, square_weights)[0]\n",
        "    \n",
        "    if new_image in all_images:\n",
        "        return create_new_image()\n",
        "    else:\n",
        "        return new_image\n",
        "    \n",
        "    \n",
        "# Generate the unique combinations based on trait weightings\n",
        "for i in range(TOTAL_IMAGES): \n",
        "    \n",
        "    new_trait_image = create_new_image()\n",
        "    \n",
        "    all_images.append(new_trait_image)"
      ],
      "execution_count": 5,
      "outputs": []
    },
    {
      "cell_type": "code",
      "metadata": {
        "colab": {
          "base_uri": "https://localhost:8080/"
        },
        "id": "lr7ghLRI42hN",
        "outputId": "0971498f-0064-43b1-f150-12033528974b"
      },
      "source": [
        "# Returns true if all images are unique\n",
        "def all_images_unique(all_images):\n",
        "    seen = list()\n",
        "    return not any(i in seen or seen.append(i) for i in all_images)\n",
        "\n",
        "print(\"Are all images unique?\", all_images_unique(all_images))"
      ],
      "execution_count": 6,
      "outputs": [
        {
          "output_type": "stream",
          "name": "stdout",
          "text": [
            "Are all images unique? True\n"
          ]
        }
      ]
    },
    {
      "cell_type": "code",
      "metadata": {
        "id": "pRnwV1-142mP"
      },
      "source": [
        "# Add token Id to each image\n",
        "i = 0\n",
        "for item in all_images:\n",
        "    item[\"tokenId\"] = i\n",
        "    i = i + 1"
      ],
      "execution_count": 7,
      "outputs": []
    },
    {
      "cell_type": "code",
      "metadata": {
        "colab": {
          "base_uri": "https://localhost:8080/"
        },
        "id": "czENQQ_R5ueS",
        "outputId": "0b1adf9c-71aa-4b96-ed44-fcacbcf74ab2"
      },
      "source": [
        "print(all_images)"
      ],
      "execution_count": 8,
      "outputs": [
        {
          "output_type": "stream",
          "name": "stdout",
          "text": [
            "[{'Background': 'Orange', 'Circle': 'Green', 'Square': 'Green', 'tokenId': 0}, {'Background': 'Orange', 'Circle': 'Yellow', 'Square': 'Blue', 'tokenId': 1}, {'Background': 'Blue', 'Circle': 'Orange', 'Square': 'Red', 'tokenId': 2}, {'Background': 'Orange', 'Circle': 'Green', 'Square': 'Blue', 'tokenId': 3}, {'Background': 'Orange', 'Circle': 'Blue', 'Square': 'Green', 'tokenId': 4}, {'Background': 'Orange', 'Circle': 'Blue', 'Square': 'Blue', 'tokenId': 5}, {'Background': 'Purple', 'Circle': 'Green', 'Square': 'Blue', 'tokenId': 6}, {'Background': 'Orange', 'Circle': 'Blue', 'Square': 'Red', 'tokenId': 7}, {'Background': 'Blue', 'Circle': 'Blue', 'Square': 'Yellow', 'tokenId': 8}, {'Background': 'Blue', 'Circle': 'Blue', 'Square': 'Red', 'tokenId': 9}, {'Background': 'Purple', 'Circle': 'Green', 'Square': 'Green', 'tokenId': 10}, {'Background': 'Blue', 'Circle': 'Blue', 'Square': 'Blue', 'tokenId': 11}, {'Background': 'Orange', 'Circle': 'Orange', 'Square': 'Yellow', 'tokenId': 12}, {'Background': 'Blue', 'Circle': 'Red', 'Square': 'Blue', 'tokenId': 13}, {'Background': 'Purple', 'Circle': 'Orange', 'Square': 'Green', 'tokenId': 14}, {'Background': 'Blue', 'Circle': 'Green', 'Square': 'Green', 'tokenId': 15}, {'Background': 'Yellow', 'Circle': 'Blue', 'Square': 'Blue', 'tokenId': 16}, {'Background': 'Orange', 'Circle': 'Red', 'Square': 'Orange', 'tokenId': 17}, {'Background': 'Orange', 'Circle': 'Green', 'Square': 'Orange', 'tokenId': 18}, {'Background': 'Blue', 'Circle': 'Red', 'Square': 'Green', 'tokenId': 19}, {'Background': 'Yellow', 'Circle': 'Green', 'Square': 'Orange', 'tokenId': 20}, {'Background': 'Orange', 'Circle': 'Red', 'Square': 'Blue', 'tokenId': 21}, {'Background': 'Blue', 'Circle': 'Green', 'Square': 'Orange', 'tokenId': 22}, {'Background': 'Blue', 'Circle': 'Yellow', 'Square': 'Orange', 'tokenId': 23}, {'Background': 'Yellow', 'Circle': 'Red', 'Square': 'Orange', 'tokenId': 24}, {'Background': 'Blue', 'Circle': 'Green', 'Square': 'Blue', 'tokenId': 25}, {'Background': 'Blue', 'Circle': 'Blue', 'Square': 'Green', 'tokenId': 26}, {'Background': 'Orange', 'Circle': 'Yellow', 'Square': 'Green', 'tokenId': 27}, {'Background': 'Yellow', 'Circle': 'Green', 'Square': 'Green', 'tokenId': 28}, {'Background': 'Yellow', 'Circle': 'Blue', 'Square': 'Yellow', 'tokenId': 29}]\n"
          ]
        }
      ]
    },
    {
      "cell_type": "code",
      "metadata": {
        "colab": {
          "base_uri": "https://localhost:8080/"
        },
        "id": "jxGevD-f5unT",
        "outputId": "916451fd-195b-4626-dab1-14efaa0c56e4"
      },
      "source": [
        "# Get Trait Counts\n",
        "\n",
        "background_count = {}\n",
        "for item in background:\n",
        "    background_count[item] = 0\n",
        "    \n",
        "circle_count = {}\n",
        "for item in circle:\n",
        "    circle_count[item] = 0\n",
        "\n",
        "square_count = {}\n",
        "for item in square:\n",
        "    square_count[item] = 0\n",
        "\n",
        "for image in all_images:\n",
        "    background_count[image[\"Background\"]] += 1\n",
        "    circle_count[image[\"Circle\"]] += 1\n",
        "    square_count[image[\"Square\"]] += 1\n",
        "    \n",
        "print(background_count)\n",
        "print(circle_count)\n",
        "print(square_count)"
      ],
      "execution_count": 9,
      "outputs": [
        {
          "output_type": "stream",
          "name": "stdout",
          "text": [
            "{'Blue': 11, 'Orange': 11, 'Purple': 3, 'Red': 0, 'Yellow': 5}\n",
            "{'Blue': 9, 'Green': 10, 'Orange': 3, 'Red': 5, 'Yellow': 3}\n",
            "{'Blue': 9, 'Green': 9, 'Orange': 6, 'Red': 3, 'Yellow': 3}\n"
          ]
        }
      ]
    },
    {
      "cell_type": "code",
      "metadata": {
        "id": "mBY6HDYf6DgM"
      },
      "source": [
        "#### Generate Metadata for all Traits \n",
        "METADATA_FILE_NAME = './metadata/all-traits.json'; \n",
        "with open(METADATA_FILE_NAME, 'w') as outfile:\n",
        "    json.dump(all_images, outfile, indent=4)"
      ],
      "execution_count": 10,
      "outputs": []
    },
    {
      "cell_type": "code",
      "metadata": {
        "id": "jQtZZBnw6Dp7"
      },
      "source": [
        "#### Generate Images    \n",
        "for item in all_images:\n",
        "\n",
        "    im1 = Image.open(f'./trait-layers/backgrounds/{background_files[item[\"Background\"]]}.jpg').convert('RGBA')\n",
        "    im2 = Image.open(f'./trait-layers/circles/{circle_files[item[\"Circle\"]]}.png').convert('RGBA')\n",
        "    im3 = Image.open(f'./trait-layers/squares/{square_files[item[\"Square\"]]}.png').convert('RGBA')\n",
        "\n",
        "    #Create each composite\n",
        "    com1 = Image.alpha_composite(im1, im2)\n",
        "    com2 = Image.alpha_composite(com1, im3)\n",
        "\n",
        "    #Convert to RGB\n",
        "    rgb_im = com2.convert('RGB')\n",
        "    file_name = str(item[\"tokenId\"]) + \".png\"\n",
        "    rgb_im.save(\"./images/\" + file_name)"
      ],
      "execution_count": 11,
      "outputs": []
    },
    {
      "cell_type": "code",
      "metadata": {
        "id": "MJx27U1h6D8c"
      },
      "source": [
        "#### Generate Metadata for each Image    \n",
        "\n",
        "f = open('./metadata/all-traits.json',) \n",
        "data = json.load(f)\n",
        "\n",
        "\n",
        "IMAGES_BASE_URI = \"ADD_IMAGES_BASE_URI_HERE\"\n",
        "PROJECT_NAME = \"ADD_PROJECT_NAME_HERE\"\n",
        "\n",
        "def getAttribute(key, value):\n",
        "    return {\n",
        "        \"trait_type\": key,\n",
        "        \"value\": value\n",
        "    }\n",
        "for i in data:\n",
        "    token_id = i['tokenId']\n",
        "    token = {\n",
        "        \"image\": IMAGES_BASE_URI + str(token_id) + '.png',\n",
        "        \"tokenId\": token_id,\n",
        "        \"name\": PROJECT_NAME + ' ' + str(token_id),\n",
        "        \"attributes\": []\n",
        "    }\n",
        "    token[\"attributes\"].append(getAttribute(\"Background\", i[\"Background\"]))\n",
        "    token[\"attributes\"].append(getAttribute(\"Circle\", i[\"Circle\"]))\n",
        "    token[\"attributes\"].append(getAttribute(\"Square\", i[\"Square\"]))\n",
        "\n",
        "    with open('./metadata/' + str(token_id), 'w') as outfile:\n",
        "        json.dump(token, outfile, indent=4)\n",
        "f.close()"
      ],
      "execution_count": 12,
      "outputs": []
    },
    {
      "cell_type": "code",
      "metadata": {
        "colab": {
          "base_uri": "https://localhost:8080/"
        },
        "id": "fKWRxyrY-GOB",
        "outputId": "2daccbbb-70c2-4fa4-e61b-ef01ae9460b6"
      },
      "source": [
        "ls"
      ],
      "execution_count": 13,
      "outputs": [
        {
          "output_type": "stream",
          "name": "stdout",
          "text": [
            "generate.ipynb  \u001b[0m\u001b[01;34mmetadata\u001b[0m/          README.md\n",
            "\u001b[01;34mimages\u001b[0m/         package.json       \u001b[01;34mtrait-layers\u001b[0m/\n",
            "LICENSE         package-lock.json  updateMetadataOpenSea.js\n"
          ]
        }
      ]
    },
    {
      "cell_type": "code",
      "metadata": {
        "colab": {
          "base_uri": "https://localhost:8080/"
        },
        "id": "OEaR4Mqp-L8k",
        "outputId": "6bdfe907-67e3-405e-c5e2-47176b915f21"
      },
      "source": [
        "cd images"
      ],
      "execution_count": 14,
      "outputs": [
        {
          "output_type": "stream",
          "name": "stdout",
          "text": [
            "/content/nft-image-generator/images\n"
          ]
        }
      ]
    },
    {
      "cell_type": "code",
      "metadata": {
        "colab": {
          "base_uri": "https://localhost:8080/"
        },
        "id": "1GdA5lrx-RLi",
        "outputId": "684e8a14-c3ae-4fb1-d6b0-a1ae9b8d0980"
      },
      "source": [
        "ls"
      ],
      "execution_count": 15,
      "outputs": [
        {
          "output_type": "stream",
          "name": "stdout",
          "text": [
            "0.png   12.png  15.png  18.png  20.png  23.png  26.png  29.png  4.png  7.png\n",
            "10.png  13.png  16.png  19.png  21.png  24.png  27.png  2.png   5.png  8.png\n",
            "11.png  14.png  17.png  1.png   22.png  25.png  28.png  3.png   6.png  9.png\n"
          ]
        }
      ]
    },
    {
      "cell_type": "code",
      "metadata": {
        "colab": {
          "base_uri": "https://localhost:8080/"
        },
        "id": "XFWFG2A4-ekP",
        "outputId": "a5ba068d-3e7f-4b26-f4c7-d15bdce49257"
      },
      "source": [
        "cd .."
      ],
      "execution_count": 16,
      "outputs": [
        {
          "output_type": "stream",
          "name": "stdout",
          "text": [
            "/content/nft-image-generator\n"
          ]
        }
      ]
    },
    {
      "cell_type": "code",
      "metadata": {
        "colab": {
          "base_uri": "https://localhost:8080/"
        },
        "id": "akAyLyZK_VKN",
        "outputId": "c27b2b43-a097-4b25-ee56-69bcf221e55d"
      },
      "source": [
        "import os\n",
        "files_targets = os.listdir('images/')\n",
        "print(files_targets)"
      ],
      "execution_count": 17,
      "outputs": [
        {
          "output_type": "stream",
          "name": "stdout",
          "text": [
            "['16.png', '15.png', '2.png', '19.png', '29.png', '5.png', '10.png', '.keep', '0.png', '11.png', '12.png', '21.png', '6.png', '1.png', '13.png', '3.png', '24.png', '20.png', '4.png', '25.png', '22.png', '28.png', '26.png', '7.png', '17.png', '9.png', '18.png', '27.png', '14.png', '23.png', '8.png']\n"
          ]
        }
      ]
    },
    {
      "cell_type": "code",
      "metadata": {
        "colab": {
          "base_uri": "https://localhost:8080/",
          "height": 35
        },
        "id": "ZSK2D9hg-jH_",
        "outputId": "3650a4f6-95f7-44dd-bf8d-c23c4469b44b"
      },
      "source": [
        "import shutil\n",
        "from google.colab import files\n",
        "shutil.make_archive('images', 'zip', 'images')\n",
        "files.download('images.zip')\n",
        "print(\"File images.zip Downloaded!\")"
      ],
      "execution_count": 18,
      "outputs": [
        {
          "output_type": "display_data",
          "data": {
            "application/javascript": [
              "\n",
              "    async function download(id, filename, size) {\n",
              "      if (!google.colab.kernel.accessAllowed) {\n",
              "        return;\n",
              "      }\n",
              "      const div = document.createElement('div');\n",
              "      const label = document.createElement('label');\n",
              "      label.textContent = `Downloading \"${filename}\": `;\n",
              "      div.appendChild(label);\n",
              "      const progress = document.createElement('progress');\n",
              "      progress.max = size;\n",
              "      div.appendChild(progress);\n",
              "      document.body.appendChild(div);\n",
              "\n",
              "      const buffers = [];\n",
              "      let downloaded = 0;\n",
              "\n",
              "      const channel = await google.colab.kernel.comms.open(id);\n",
              "      // Send a message to notify the kernel that we're ready.\n",
              "      channel.send({})\n",
              "\n",
              "      for await (const message of channel.messages) {\n",
              "        // Send a message to notify the kernel that we're ready.\n",
              "        channel.send({})\n",
              "        if (message.buffers) {\n",
              "          for (const buffer of message.buffers) {\n",
              "            buffers.push(buffer);\n",
              "            downloaded += buffer.byteLength;\n",
              "            progress.value = downloaded;\n",
              "          }\n",
              "        }\n",
              "      }\n",
              "      const blob = new Blob(buffers, {type: 'application/binary'});\n",
              "      const a = document.createElement('a');\n",
              "      a.href = window.URL.createObjectURL(blob);\n",
              "      a.download = filename;\n",
              "      div.appendChild(a);\n",
              "      a.click();\n",
              "      div.remove();\n",
              "    }\n",
              "  "
            ],
            "text/plain": [
              "<IPython.core.display.Javascript object>"
            ]
          },
          "metadata": {}
        },
        {
          "output_type": "display_data",
          "data": {
            "application/javascript": [
              "download(\"download_a2b252ff-ba75-4f5f-9fb7-73da417493bc\", \"images.zip\", 419193)"
            ],
            "text/plain": [
              "<IPython.core.display.Javascript object>"
            ]
          },
          "metadata": {}
        },
        {
          "output_type": "stream",
          "name": "stdout",
          "text": [
            "File images.zip Downloaded!\n"
          ]
        }
      ]
    }
  ]
}